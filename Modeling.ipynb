{
 "cells": [
  {
   "cell_type": "code",
   "execution_count": 73,
   "metadata": {},
   "outputs": [],
   "source": [
    "import numpy as np\n",
    "import pandas as pd\n",
    "from sklearn.model_selection import train_test_split\n",
    "from sklearn.metrics import confusion_matrix, accuracy_score\n",
    "\n",
    "from xgboost import XGBClassifier\n",
    "\n",
    "Seoul = pd.read_csv(\"SeoulTotal.csv\", index_col=0)\n",
    "Pusan = pd.read_csv(\"PusanTotal.csv\", index_col=0)\n",
    "Incheon = pd.read_csv(\"IncheonTotal.csv\", index_col=0)\n",
    "Gwangju = pd.read_csv(\"GwangjuTotal.csv\", index_col=0)\n",
    "Daejeon = pd.read_csv(\"DaejeonTotal.csv\", index_col=0)\n",
    "Ulsan = pd.read_csv(\"UlsanTotal.csv\", index_col=0)"
   ]
  },
  {
   "cell_type": "code",
   "execution_count": 3,
   "metadata": {},
   "outputs": [],
   "source": [
    "dataset = [Seoul, Pusan, Incheon, Gwangju, Daejeon, Ulsan]\n",
    "newdata = []\n",
    "for data in dataset:\n",
    "    data['천식폐질환'] = data.J45 + data.J46 + data.J44\n",
    "    data['뇌졸증'] = data.I60 = data.I61 + data.I62 + data.I63\n",
    "    data['감기'] = data.J00 + data.J03 + data.J06 + data.J20\n",
    "    data = data[data.columns[:6].tolist() + data.columns[17:].tolist()]\n",
    "    newdata.append(data)\n",
    "    \n",
    "dataset = newdata"
   ]
  },
  {
   "cell_type": "code",
   "execution_count": 4,
   "metadata": {},
   "outputs": [
    {
     "name": "stdout",
     "output_type": "stream",
     "text": [
      "천식폐질환\n",
      "20 13 2\n",
      "뇌졸증\n",
      "5 3 0\n",
      "감기\n",
      "288 209 94\n",
      "----------\n",
      "천식폐질환\n",
      "9 6 1\n",
      "뇌졸증\n",
      "2 1 0\n",
      "감기\n",
      "126 91 40\n",
      "----------\n",
      "천식폐질환\n",
      "9 5 1\n",
      "뇌졸증\n",
      "3 2 0\n",
      "감기\n",
      "92 67 28\n",
      "----------\n",
      "천식폐질환\n",
      "5.0 3.0 0.0\n",
      "뇌졸증\n",
      "1.0 1.0 0.0\n",
      "감기\n",
      "44.0 32.0 13.0\n",
      "----------\n",
      "천식폐질환\n",
      "4 2 0\n",
      "뇌졸증\n",
      "2 1 0\n",
      "감기\n",
      "58 43 20\n",
      "----------\n",
      "천식폐질환\n",
      "3.0 2.0 0.0\n",
      "뇌졸증\n",
      "1.0 0.0 0.0\n",
      "감기\n",
      "47.0 33.0 15.0\n",
      "----------\n"
     ]
    }
   ],
   "source": [
    "target = ['천식폐질환', '뇌졸증', '감기']\n",
    "for data in dataset:\n",
    "    for tgt in target:\n",
    "        dist = data[tgt].fillna(0).tolist()\n",
    "        dist.sort(reverse=True)\n",
    "        bound1 = dist[int(len(dist)*.05)]\n",
    "        bound2 = dist[int(len(dist)*.15)]\n",
    "        bound3 = dist[int(len(dist)*.60)]\n",
    "        print(tgt)\n",
    "        print(bound1, bound2, bound3)\n",
    "    print(\"-\"*10)\n",
    "        \n",
    "# 뇌졸증의 경우 너무 환자 수가 적어 정확한 경계값을 환자 수 기준으로 세우기 어려웠다.\n",
    "# 실제 뇌졸증지수 예보값의 분포를 한 번 봐서 이상적으로 분포되어 있는지 체크할 필요가 있어 보임.\n",
    "# 일단 뇌졸증은 빼고 해보는걸로\n",
    "\n",
    "# 천식폐질환 지수도 bound3 이 0이 나오는 경우 경계값을 삼기가 힘들다.\n",
    "# 따라서 명료한 도시 우선으로 먼저 해본다. 선정된 도시는\n",
    "# 서울, 부산, 인천\n",
    "# 세 도시를 우선으로 해보기로 한다."
   ]
  },
  {
   "cell_type": "code",
   "execution_count": 35,
   "metadata": {
    "scrolled": true
   },
   "outputs": [
    {
     "name": "stderr",
     "output_type": "stream",
     "text": [
      "C:\\Users\\samsung\\Anaconda3\\lib\\site-packages\\ipykernel_launcher.py:9: SettingWithCopyWarning: \n",
      "A value is trying to be set on a copy of a slice from a DataFrame.\n",
      "Try using .loc[row_indexer,col_indexer] = value instead\n",
      "\n",
      "See the caveats in the documentation: http://pandas.pydata.org/pandas-docs/stable/indexing.html#indexing-view-versus-copy\n",
      "  if __name__ == '__main__':\n"
     ]
    }
   ],
   "source": [
    "target = ['천식폐질환', '감기']\n",
    "for data in dataset[:3]:\n",
    "    for tgt in target:\n",
    "        dist = data[tgt].fillna(0).tolist()\n",
    "        dist.sort(reverse=True)\n",
    "        bound1 = dist[int(len(dist)*.05)]\n",
    "        bound2 = dist[int(len(dist)*.15)]\n",
    "        bound3 = dist[int(len(dist)*.60)]\n",
    "        data[tgt[:2]+\"지수\"] = data[tgt].map(lambda x: (x>=bound1)+(x>=bound2)+(x>=bound3))"
   ]
  },
  {
   "cell_type": "code",
   "execution_count": 45,
   "metadata": {},
   "outputs": [],
   "source": [
    "mydata = dataset[0]"
   ]
  },
  {
   "cell_type": "code",
   "execution_count": 49,
   "metadata": {},
   "outputs": [
    {
     "data": {
      "text/plain": [
       "Index(['MIN_TA', 'MAX_TA', 'AVG_RHM', 'AVG_PA', 'AVG_WS', 'PM10'], dtype='object')"
      ]
     },
     "execution_count": 49,
     "metadata": {},
     "output_type": "execute_result"
    }
   ],
   "source": [
    "mydata.columns[:6]"
   ]
  },
  {
   "cell_type": "code",
   "execution_count": 50,
   "metadata": {},
   "outputs": [],
   "source": [
    "X_train, X_test, y_train, y_test = train_test_split(mydata[mydata.columns[:6]],\n",
    "                                                    mydata['천식지수'],\n",
    "                                                    test_size=0.2,\n",
    "                                                    shuffle=True)"
   ]
  },
  {
   "cell_type": "code",
   "execution_count": 51,
   "metadata": {},
   "outputs": [
    {
     "name": "stdout",
     "output_type": "stream",
     "text": [
      "(2921, 6) (731, 6) (2921,) (731,)\n"
     ]
    }
   ],
   "source": [
    "print(X_train.shape, X_test.shape, y_train.shape, y_test.shape)"
   ]
  },
  {
   "cell_type": "code",
   "execution_count": 57,
   "metadata": {},
   "outputs": [],
   "source": [
    "model = XGBClassifier()"
   ]
  },
  {
   "cell_type": "code",
   "execution_count": 58,
   "metadata": {},
   "outputs": [
    {
     "data": {
      "text/plain": [
       "XGBClassifier(base_score=0.5, booster='gbtree', colsample_bylevel=1,\n",
       "              colsample_bynode=1, colsample_bytree=1, gamma=0,\n",
       "              learning_rate=0.1, max_delta_step=0, max_depth=3,\n",
       "              min_child_weight=1, missing=None, n_estimators=100, n_jobs=1,\n",
       "              nthread=None, objective='multi:softprob', random_state=0,\n",
       "              reg_alpha=0, reg_lambda=1, scale_pos_weight=1, seed=None,\n",
       "              silent=None, subsample=1, verbosity=1)"
      ]
     },
     "execution_count": 58,
     "metadata": {},
     "output_type": "execute_result"
    }
   ],
   "source": [
    "model.fit(X_train, y_train)"
   ]
  },
  {
   "cell_type": "code",
   "execution_count": 59,
   "metadata": {},
   "outputs": [],
   "source": [
    "y_pred = model.predict(X_test)"
   ]
  },
  {
   "cell_type": "code",
   "execution_count": 76,
   "metadata": {},
   "outputs": [
    {
     "data": {
      "text/plain": [
       "array([[ 97, 174,   0,   1],\n",
       "       [ 74, 273,   1,   0],\n",
       "       [ 18,  57,   0,   0],\n",
       "       [ 14,  22,   0,   0]], dtype=int64)"
      ]
     },
     "execution_count": 76,
     "metadata": {},
     "output_type": "execute_result"
    }
   ],
   "source": [
    "CM = confusion_matrix(y_true=y_test, y_pred=y_pred)\n",
    "CM"
   ]
  },
  {
   "cell_type": "code",
   "execution_count": 78,
   "metadata": {},
   "outputs": [
    {
     "data": {
      "text/plain": [
       "0.506155950752394"
      ]
     },
     "execution_count": 78,
     "metadata": {},
     "output_type": "execute_result"
    }
   ],
   "source": [
    "np.diag(CM).sum() / CM.sum()"
   ]
  },
  {
   "cell_type": "code",
   "execution_count": 90,
   "metadata": {},
   "outputs": [],
   "source": [
    "# 일단 서울의 경우에만\n",
    "X_test['DIFF_TA'] = X_test['MAX_TA'] - X_test['MIN_TA']\n",
    "y_pred = []\n",
    "for i in range(len(X_test)):\n",
    "    row = X_test.iloc[i,]\n",
    "    \n",
    "    if row.MIN_TA < -8.1: temp_min = 4\n",
    "    elif row.MIN_TA < 0.6: temp_min = 3\n",
    "    elif row.MIN_TA < 13.5: temp_min = 2\n",
    "    else: temp_min = 1\n",
    "    \n",
    "    if row.DIFF_TA >= 12.5: temp_dif = 4\n",
    "    elif row.DIFF_TA >= 9.9: temp_dif = 3\n",
    "    elif row.DIFF_TA >= 7.3: temp_dif = 2\n",
    "    else: temp_dif = 1\n",
    "        \n",
    "    if row.AVG_PA >= 1017.9: lp = 4\n",
    "    elif row.AVG_PA >= 1011.9: lp = 3\n",
    "    elif row.AVG_PA >= 1003.5: lp = 2\n",
    "    else: lp = 1\n",
    "    \n",
    "    if row.AVG_RHM < 37.4: rh = 4\n",
    "    elif row.AVG_RHM < 50.0: rh = 3\n",
    "    elif row.AVG_RHM < 65.9: rh = 2\n",
    "    else: rh = 1\n",
    "    \n",
    "    pred = .443*temp_min + .202*temp_dif + .315*lp + .04*rh\n",
    "    if pred >= 3.0525: pred = 3\n",
    "    elif pred >= 2.6452: pred = 2\n",
    "    elif pred >= 1.5354: pred = 1\n",
    "    else: pred = 0\n",
    "    y_pred.append(pred)"
   ]
  },
  {
   "cell_type": "code",
   "execution_count": 91,
   "metadata": {},
   "outputs": [
    {
     "data": {
      "text/plain": [
       "array([[109, 124,  27,  12],\n",
       "       [136, 160,  34,  18],\n",
       "       [ 17,  43,   9,   6],\n",
       "       [ 10,  21,   3,   2]], dtype=int64)"
      ]
     },
     "execution_count": 91,
     "metadata": {},
     "output_type": "execute_result"
    }
   ],
   "source": [
    "CM = confusion_matrix(y_true=y_test, y_pred=y_pred)\n",
    "CM"
   ]
  },
  {
   "cell_type": "code",
   "execution_count": 92,
   "metadata": {},
   "outputs": [
    {
     "data": {
      "text/plain": [
       "0.38303693570451436"
      ]
     },
     "execution_count": 92,
     "metadata": {},
     "output_type": "execute_result"
    }
   ],
   "source": [
    "np.diag(CM).sum() / CM.sum()"
   ]
  },
  {
   "cell_type": "code",
   "execution_count": null,
   "metadata": {},
   "outputs": [],
   "source": []
  }
 ],
 "metadata": {
  "kernelspec": {
   "display_name": "Python 3",
   "language": "python",
   "name": "python3"
  },
  "language_info": {
   "codemirror_mode": {
    "name": "ipython",
    "version": 3
   },
   "file_extension": ".py",
   "mimetype": "text/x-python",
   "name": "python",
   "nbconvert_exporter": "python",
   "pygments_lexer": "ipython3",
   "version": "3.6.5"
  }
 },
 "nbformat": 4,
 "nbformat_minor": 2
}
