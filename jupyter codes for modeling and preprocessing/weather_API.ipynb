{
 "cells": [
  {
   "cell_type": "code",
   "execution_count": null,
   "metadata": {},
   "outputs": [],
   "source": [
    "import pandas as pd\n",
    "import json\n",
    "from urllib.request import urlopen\n",
    "from pprint import pprint\n",
    "\n",
    "api_key = \"TXUWkxeRnTKr1YHCgBgme6hlePijdbU5dHXoGHtjQ0r2FBuoLnHt9gjTAcAaLiX9\"\n",
    "\n",
    "def getResponse(startDate, endDate, stationID, numResult):\n",
    "    url = \"http://data.kma.go.kr/apiData/getData\"\n",
    "    url+= \"?type=json\"           # type (xml, json)\n",
    "    url+= \"&dataCd=ASOS\"\n",
    "    url+= \"&dateCd=DAY\"\n",
    "    url+= \"&startDt=\" + str(startDate)   # start date\n",
    "    url+= \"&endDt=\" + str(endDate)       # end date\n",
    "    url+= \"&stnIds=\" + str(stationID)    # station ID\n",
    "    url+= \"&schListCnt=\" + str(numResult)      # num of search result\n",
    "    url+= \"&pageIndex=1\"        # num of page\n",
    "    url+= \"&apiKey=\" + api_key\n",
    "\n",
    "    response = urlopen(url)\n",
    "    response = response.read().decode('utf-8')\n",
    "    response = json.loads(response)\n",
    "    return response\n",
    "\n",
    "\n",
    "def getDataFrame(response):\n",
    "    data = response[3]['info']\n",
    "    for i in range(len(data)):\n",
    "        if 'ISCS' in data[i]:\n",
    "            del data[i]['ISCS']\n",
    "        if i == 0:\n",
    "            df = pd.DataFrame(data[i], index=[data[i]['TM']])\n",
    "        else:\n",
    "            temp = pd.DataFrame(data[i], index=[data[i]['TM']])\n",
    "            df = pd.concat([df, temp], sort=True)\n",
    "\n",
    "    return df\n",
    "\n",
    "\n",
    "if __name__ == \"__main__\":\n",
    "    response = getResponse(20100101, 20101231, 90, 400)\n",
    "    df = getDataFrame(response)\n",
    "    print(df)"
   ]
  }
 ],
 "metadata": {
  "kernelspec": {
   "display_name": "Python 3",
   "language": "python",
   "name": "python3"
  },
  "language_info": {
   "codemirror_mode": {
    "name": "ipython",
    "version": 3
   },
   "file_extension": ".py",
   "mimetype": "text/x-python",
   "name": "python",
   "nbconvert_exporter": "python",
   "pygments_lexer": "ipython3",
   "version": "3.6.5"
  }
 },
 "nbformat": 4,
 "nbformat_minor": 2
}
